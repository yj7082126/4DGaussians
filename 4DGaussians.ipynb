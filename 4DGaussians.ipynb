{
 "cells": [
  {
   "cell_type": "code",
   "execution_count": null,
   "metadata": {},
   "outputs": [],
   "source": [
    "from pathlib import Path\n",
    "import shutil\n",
    "\n",
    "path1 = Path(\"/data/3D_dataset/datasets/kubric4d/scn02716\")\n",
    "path2 = Path(\"/data/3D_dataset/MVS/4DGaussians/data/multipleview/scn02716\")\n",
    "\n",
    "cameras = sorted(list(path1.glob(\"frames*/\")), key=lambda x: int(x.stem.split(\"_v\")[-1]))\n",
    "for c in cameras:\n",
    "    cam_ind = int(c.stem.split(\"_v\")[-1]) + 1\n",
    "    (path2 / f\"cam{cam_ind:02d}\").mkdir(parents=True, exist_ok=True)\n",
    "\n",
    "    frames = sorted(list(c.glob(\"rgba_*.png\")))\n",
    "    for f in frames:\n",
    "        frame_ind = int(f.stem.split(\"_\")[-1]) + 1\n",
    "        shutil.copy(\n",
    "            f, \n",
    "            path2 / f\"cam{cam_ind:02d}/frame_{frame_ind:05d}.jpg\"\n",
    "        )"
   ]
  },
  {
   "cell_type": "code",
   "execution_count": null,
   "metadata": {
    "colab": {
     "base_uri": "https://localhost:8080/",
     "height": 1000
    },
    "id": "VjYy0F2gZIPR",
    "outputId": "129c4176-455a-42b0-e06a-b30ef7792aea"
   },
   "outputs": [],
   "source": [
    "%cd /content\n",
    "!git clone https://github.com/hustvl/4DGaussians\n",
    "%cd 4DGaussians\n",
    "!git submodule update --init --recursive\n",
    "\n",
    "!pip install -r requirements.txt\n",
    "!pip install -e submodules/depth-diff-gaussian-rasterization\n",
    "!pip install -e submodules/simple-knn\n"
   ]
  },
  {
   "cell_type": "code",
   "execution_count": null,
   "metadata": {
    "id": "wpqmK97Koq36"
   },
   "outputs": [],
   "source": [
    "!mkdir content/test\n",
    "%cd content/test\n",
    "!wget https://huggingface.co/camenduru/4DGaussians/resolve/main/data/data.zip\n",
    "!unzip data.zip"
   ]
  },
  {
   "cell_type": "code",
   "execution_count": 1,
   "metadata": {
    "colab": {
     "base_uri": "https://localhost:8080/"
    },
    "id": "8hk10A8Al7_V",
    "outputId": "e6df1ec7-fe5c-4b08-bee5-bcf077759c2a"
   },
   "outputs": [
    {
     "name": "stdout",
     "output_type": "stream",
     "text": [
      "Optimizing \n",
      "Output folder: ./output/dnerf/bouncingballs [12/11 14:37:25]\n",
      "feature_dim: 64 [12/11 14:37:25]\n",
      "Found transforms_train.json file, assuming Blender data set! [12/11 14:37:25]\n",
      "Reading Training Transforms [12/11 14:37:25]\n",
      "Reading Test Transforms [12/11 14:37:35]\n",
      "Generating Video Transforms [12/11 14:37:37]\n",
      "hello!!!! [12/11 14:37:37]\n",
      "Generating random point cloud (2000)... [12/11 14:37:37]\n",
      "Loading Training Cameras [12/11 14:37:37]\n",
      "Loading Test Cameras [12/11 14:37:37]\n",
      "Loading Video Cameras [12/11 14:37:37]\n",
      "Deformation Net Set aabb [1.29982098 1.29990645 1.29988719] [-1.29980838 -1.29981163 -1.29872349] [12/11 14:37:37]\n",
      "Voxel Plane: set aabb= Parameter containing:\n",
      "tensor([[ 1.2998,  1.2999,  1.2999],\n",
      "        [-1.2998, -1.2998, -1.2987]]) [12/11 14:37:37]\n",
      "Number of points at initialisation :  2000 [12/11 14:37:38]\n",
      "Training progress:   0%|                               | 0/3000 [00:00<?, ?it/s]data loading done [12/11 14:37:42]\n",
      "Training progress: 100%|▉| 2990/3000 [00:35<00:00, 101.26it/s, Loss=0.0202125, p\n",
      "[ITER 3000] Evaluating test: L1 0.02227750897188397 PSNR 21.949098530937643 [12/11 14:38:15]\n",
      "\n",
      "[ITER 3000] Evaluating train: L1 0.03125443126020186 PSNR 21.224173938526828 [12/11 14:38:17]\n",
      "reset opacity [12/11 14:38:17]\n",
      "Training progress: 100%|█| 3000/3000 [00:38<00:00, 78.07it/s, Loss=0.0202125, ps\n",
      "Training progress:   0%|                              | 0/20000 [00:00<?, ?it/s]data loading done [12/11 14:38:20]\n",
      "Training progress:  15%|▏| 3000/20000 [01:28<07:36, 37.25it/s, Loss=0.0037587, p\n",
      "[ITER 3000] Evaluating test: L1 0.004269067280213623 PSNR 34.56251649295582 [12/11 14:39:47]\n",
      "\n",
      "[ITER 3000] Evaluating train: L1 0.004198013626806 PSNR 34.89295533124138 [12/11 14:39:48]\n",
      "reset opacity [12/11 14:39:48]\n",
      "Training progress:  30%|▎| 6000/20000 [02:53<06:59, 33.36it/s, Loss=0.0030635, preset opacity [12/11 14:41:11]\n",
      "Training progress:  35%|▎| 7000/20000 [03:21<05:34, 38.83it/s, Loss=0.0025311, p\n",
      "[ITER 7000] Evaluating test: L1 0.0027802044744877252 PSNR 37.635299009435315 [12/11 14:41:39]\n",
      "\n",
      "[ITER 7000] Evaluating train: L1 0.002740371910690823 PSNR 38.255861170151654 [12/11 14:41:40]\n",
      "Training progress:  45%|▍| 9000/20000 [04:17<04:50, 37.83it/s, Loss=0.0021634, preset opacity [12/11 14:42:34]\n",
      "Training progress:  60%|▌| 12000/20000 [05:41<03:49, 34.81it/s, Loss=0.0017693, reset opacity [12/11 14:43:58]\n",
      "Training progress:  70%|▋| 14000/20000 [06:36<02:41, 37.13it/s, Loss=0.0015944, \n",
      "[ITER 14000] Evaluating test: L1 0.002213973887538647 PSNR 39.799909479477826 [12/11 14:44:56]\n",
      "\n",
      "[ITER 14000] Evaluating train: L1 0.0015195812550647294 PSNR 44.21055872300092 [12/11 14:44:57]\n",
      "\n",
      "[ITER 14000] Saving Gaussians [12/11 14:44:57]\n",
      "Training progress: 100%|█| 20000/20000 [09:25<00:00, 35.38it/s, Loss=0.0016463, \n",
      "\n",
      "[ITER 20000] Saving Gaussians [12/11 14:47:42]\n",
      "\n",
      "Training complete. [12/11 14:47:42]\n"
     ]
    }
   ],
   "source": [
    "!python train.py -s data/bouncingballs --port 6017 --expname \"dnerf/bouncingballs\" --configs arguments/dnerf/bouncingballs.py"
   ]
  },
  {
   "cell_type": "code",
   "execution_count": 3,
   "metadata": {
    "colab": {
     "base_uri": "https://localhost:8080/"
    },
    "id": "RTBK98DNl7_W",
    "outputId": "aabf7f5d-6189-4bd0-f81d-a4dc9d7c2acb"
   },
   "outputs": [
    {
     "name": "stdout",
     "output_type": "stream",
     "text": [
      "Looking for config file in output/dnerf/bouncingballs/cfg_args\n",
      "Config file found: output/dnerf/bouncingballs/cfg_args\n",
      "Rendering  output/dnerf/bouncingballs/\n",
      "feature_dim: 64 [12/11 17:42:22]\n",
      "Loading trained model at iteration 20000 [12/11 17:42:22]\n",
      "Found transforms_train.json file, assuming Blender data set! [12/11 17:42:22]\n",
      "Reading Training Transforms [12/11 17:42:22]\n",
      "Reading Test Transforms [12/11 17:42:34]\n",
      "Generating Video Transforms [12/11 17:42:36]\n",
      "hello!!!! [12/11 17:42:36]\n",
      "Generating random point cloud (2000)... [12/11 17:42:36]\n",
      "Loading Training Cameras [12/11 17:42:36]\n",
      "Loading Test Cameras [12/11 17:42:36]\n",
      "Loading Video Cameras [12/11 17:42:36]\n",
      "Deformation Net Set aabb [1.29982098 1.29990645 1.29988719] [-1.29980838 -1.29981163 -1.29872349] [12/11 17:42:36]\n",
      "Voxel Plane: set aabb= Parameter containing:\n",
      "tensor([[ 1.2998,  1.2999,  1.2999],\n",
      "        [-1.2998, -1.2998, -1.2987]]) [12/11 17:42:36]\n",
      "loading model from existsoutput/dnerf/bouncingballs/point_cloud/iteration_20000 [12/11 17:42:37]\n",
      "point nums: 27868 [12/11 17:42:37]\n",
      "Rendering progress: 100%|███████████████████████| 20/20 [00:02<00:00,  9.29it/s]\n",
      "FPS: 8.978422297987747 [12/11 17:42:40]\n",
      "point nums: 27868 [12/11 17:42:43]\n",
      "Rendering progress: 100%|█████████████████████| 160/160 [00:09<00:00, 17.52it/s]\n",
      "FPS: 17.580865908102144 [12/11 17:42:52]\n"
     ]
    }
   ],
   "source": [
    "\n",
    "!python render.py --model_path \"output/dnerf/bouncingballs/\"  --skip_train --configs arguments/dnerf/bouncingballs.py"
   ]
  },
  {
   "cell_type": "code",
   "execution_count": null,
   "metadata": {
    "id": "oLyN3bAw0KCI"
   },
   "outputs": [],
   "source": [
    "from IPython.display import HTML\n",
    "from base64 import b64encode\n",
    "def display_video(video_path):\n",
    "  mp4 = open(video_path,'rb').read()\n",
    "  data_url = \"data:video/mp4;base64,\" + b64encode(mp4).decode()\n",
    "  return HTML(\"\"\"\n",
    "  <video width=1000 controls>\n",
    "    <source src=\"%s\" type=\"video/mp4\">\n",
    "  </video>\n",
    "  \"\"\" % data_url)\n",
    "\n",
    "save_dir = '/content/4DGaussians/output/dnerf/bouncingballs/video/ours_20000/video_rgb.mp4'\n",
    "\n",
    "import os\n",
    "import glob\n",
    "# video_path = glob.glob(os.path.join(save_dir, \"*-test.mp4\"))[0]\n",
    "display_video(save_dir)"
   ]
  },
  {
   "cell_type": "code",
   "execution_count": null,
   "metadata": {
    "colab": {
     "base_uri": "https://localhost:8080/",
     "height": 1000
    },
    "id": "nCTKtptS0MrA",
    "outputId": "ad2bdbac-ddeb-4d27-900c-24c96009bc44"
   },
   "outputs": [],
   "source": []
  }
 ],
 "metadata": {
  "accelerator": "GPU",
  "colab": {
   "gpuType": "T4",
   "provenance": []
  },
  "kernelspec": {
   "display_name": "base",
   "language": "python",
   "name": "python3"
  },
  "language_info": {
   "codemirror_mode": {
    "name": "ipython",
    "version": 3
   },
   "file_extension": ".py",
   "mimetype": "text/x-python",
   "name": "python",
   "nbconvert_exporter": "python",
   "pygments_lexer": "ipython3",
   "version": "3.11.7"
  }
 },
 "nbformat": 4,
 "nbformat_minor": 0
}
